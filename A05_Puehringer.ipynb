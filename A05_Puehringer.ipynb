{
 "cells": [
  {
   "cell_type": "markdown",
   "id": "6398b734-b9bf-4061-92e3-490dc237b55d",
   "metadata": {},
   "source": [
    "Aufwand in Stunden: 5"
   ]
  },
  {
   "cell_type": "code",
   "execution_count": 1,
   "id": "4f23a2c6-ac17-4d23-98d7-9a41dbeab18f",
   "metadata": {},
   "outputs": [],
   "source": [
    "import pandas as pd\n",
    "import random\n",
    "import numpy as np\n",
    "import numbers\n",
    "from copy import deepcopy\n",
    "from sklearn.cluster import KMeans\n",
    "import seaborn as sns\n",
    "import matplotlib.pyplot as plt"
   ]
  },
  {
   "cell_type": "code",
   "execution_count": 2,
   "id": "5b30fdb9-48f4-49f2-a7a5-da34c1effd58",
   "metadata": {},
   "outputs": [
    {
     "data": {
      "text/html": [
       "<div>\n",
       "<style scoped>\n",
       "    .dataframe tbody tr th:only-of-type {\n",
       "        vertical-align: middle;\n",
       "    }\n",
       "\n",
       "    .dataframe tbody tr th {\n",
       "        vertical-align: top;\n",
       "    }\n",
       "\n",
       "    .dataframe thead th {\n",
       "        text-align: right;\n",
       "    }\n",
       "</style>\n",
       "<table border=\"1\" class=\"dataframe\">\n",
       "  <thead>\n",
       "    <tr style=\"text-align: right;\">\n",
       "      <th></th>\n",
       "      <th>Date</th>\n",
       "      <th>Open</th>\n",
       "      <th>High</th>\n",
       "      <th>Low</th>\n",
       "      <th>Close</th>\n",
       "      <th>Adj Close</th>\n",
       "      <th>Volume</th>\n",
       "    </tr>\n",
       "  </thead>\n",
       "  <tbody>\n",
       "    <tr>\n",
       "      <th>0</th>\n",
       "      <td>2010-06-29</td>\n",
       "      <td>3.800</td>\n",
       "      <td>5.000</td>\n",
       "      <td>3.508</td>\n",
       "      <td>4.778</td>\n",
       "      <td>4.778</td>\n",
       "      <td>93831500</td>\n",
       "    </tr>\n",
       "    <tr>\n",
       "      <th>1</th>\n",
       "      <td>2010-06-30</td>\n",
       "      <td>5.158</td>\n",
       "      <td>6.084</td>\n",
       "      <td>4.660</td>\n",
       "      <td>4.766</td>\n",
       "      <td>4.766</td>\n",
       "      <td>85935500</td>\n",
       "    </tr>\n",
       "    <tr>\n",
       "      <th>2</th>\n",
       "      <td>2010-07-01</td>\n",
       "      <td>5.000</td>\n",
       "      <td>5.184</td>\n",
       "      <td>4.054</td>\n",
       "      <td>4.392</td>\n",
       "      <td>4.392</td>\n",
       "      <td>41094000</td>\n",
       "    </tr>\n",
       "    <tr>\n",
       "      <th>3</th>\n",
       "      <td>2010-07-02</td>\n",
       "      <td>4.600</td>\n",
       "      <td>4.620</td>\n",
       "      <td>3.742</td>\n",
       "      <td>3.840</td>\n",
       "      <td>3.840</td>\n",
       "      <td>25699000</td>\n",
       "    </tr>\n",
       "    <tr>\n",
       "      <th>4</th>\n",
       "      <td>2010-07-06</td>\n",
       "      <td>4.000</td>\n",
       "      <td>4.000</td>\n",
       "      <td>3.166</td>\n",
       "      <td>3.222</td>\n",
       "      <td>3.222</td>\n",
       "      <td>34334500</td>\n",
       "    </tr>\n",
       "  </tbody>\n",
       "</table>\n",
       "</div>"
      ],
      "text/plain": [
       "         Date   Open   High    Low  Close  Adj Close    Volume\n",
       "0  2010-06-29  3.800  5.000  3.508  4.778      4.778  93831500\n",
       "1  2010-06-30  5.158  6.084  4.660  4.766      4.766  85935500\n",
       "2  2010-07-01  5.000  5.184  4.054  4.392      4.392  41094000\n",
       "3  2010-07-02  4.600  4.620  3.742  3.840      3.840  25699000\n",
       "4  2010-07-06  4.000  4.000  3.166  3.222      3.222  34334500"
      ]
     },
     "execution_count": 2,
     "metadata": {},
     "output_type": "execute_result"
    }
   ],
   "source": [
    "df = pd.read_csv('data/tesla_stocks.csv')\n",
    "df.head()"
   ]
  },
  {
   "cell_type": "code",
   "execution_count": 3,
   "id": "059ec285-ca80-4a9e-9e77-235bc36244b4",
   "metadata": {},
   "outputs": [
    {
     "name": "stdout",
     "output_type": "stream",
     "text": [
      "<class 'pandas.core.frame.DataFrame'>\n",
      "RangeIndex: 3006 entries, 0 to 3005\n",
      "Data columns (total 7 columns):\n",
      " #   Column     Non-Null Count  Dtype  \n",
      "---  ------     --------------  -----  \n",
      " 0   Date       3006 non-null   object \n",
      " 1   Open       3006 non-null   float64\n",
      " 2   High       3006 non-null   float64\n",
      " 3   Low        3006 non-null   float64\n",
      " 4   Close      3006 non-null   float64\n",
      " 5   Adj Close  3006 non-null   float64\n",
      " 6   Volume     3006 non-null   int64  \n",
      "dtypes: float64(5), int64(1), object(1)\n",
      "memory usage: 164.5+ KB\n"
     ]
    }
   ],
   "source": [
    "df.info()"
   ]
  },
  {
   "cell_type": "markdown",
   "id": "27900ad3-e53e-4123-ac17-b99bfd0f505a",
   "metadata": {},
   "source": [
    "# Splitting train and test\n",
    "A method splits the data according to a parameter train_size. For this method x elements for the provided list are popped and added to the train split. x is determined by train_size times the length of the initial list. Since the indexing of the provided list is done randomly, there is no need to shuffle the lists first."
   ]
  },
  {
   "cell_type": "code",
   "execution_count": 4,
   "id": "9ae22032-9634-4c01-a64b-91f518f6ef79",
   "metadata": {},
   "outputs": [],
   "source": [
    "def split_train_test(X, y, train_size=0.8):\n",
    "    # X and y dont need to be shuffled as random index\n",
    "    # is used to append to train and test\n",
    "    X_copy = X.copy()\n",
    "    y_copy = y.copy()\n",
    "    \n",
    "    train_X = []\n",
    "    train_y = []\n",
    "    \n",
    "    train_size = int(len(X)*train_size)\n",
    "    \n",
    "    for i in range(0, train_size):\n",
    "        pop_idx = random.randint(0, len(X_copy)-1)\n",
    "        popped_X = X_copy.pop(pop_idx)\n",
    "        popped_y = y_copy.pop(pop_idx)\n",
    "        train_X.append(popped_X)\n",
    "        train_y.append(popped_y)\n",
    "    \n",
    "    # return x and y for train and test(= copy)\n",
    "    return train_X, train_y, X_copy, y_copy\n",
    "    "
   ]
  },
  {
   "cell_type": "code",
   "execution_count": 5,
   "id": "1a904279-6b5e-450b-91f4-e505e3aa6af7",
   "metadata": {},
   "outputs": [],
   "source": [
    "# get X and y for splitting\n",
    "X, y = df.iloc[:, :-1].values.tolist(), df.iloc[:, -1].values.tolist()"
   ]
  },
  {
   "cell_type": "code",
   "execution_count": 6,
   "id": "11412859-91b2-4ad9-b55a-b5f19ef4f809",
   "metadata": {},
   "outputs": [],
   "source": [
    "init_size = len(X)"
   ]
  },
  {
   "cell_type": "code",
   "execution_count": 7,
   "id": "bdc80598-aa89-4853-a9da-31be0c2a4304",
   "metadata": {},
   "outputs": [],
   "source": [
    "# split data -> 80% train, 20% test\n",
    "X_train, y_train, X_test, y_test = split_train_test(X, y, 0.8)"
   ]
  },
  {
   "cell_type": "code",
   "execution_count": 8,
   "id": "faa4cdf6-550d-47dc-851e-d7e9e9ed988b",
   "metadata": {},
   "outputs": [
    {
     "name": "stdout",
     "output_type": "stream",
     "text": [
      "Size of x and y for train: 2404-2404\n",
      "Size of x and y for test: 602-602\n",
      "Train size and test size: 79.97338656021292%-20.02661343978709%\n"
     ]
    }
   ],
   "source": [
    "print(\"Size of x and y for train: {}-{}\\nSize of x and y for test: {}-{}\".format(len(X_train), len(y_train), len(X_test), len(y_test)))\n",
    "print(\"Train size and test size: {}%-{}%\".format(len(X_train)/init_size*100, len(X_test)/init_size*100))"
   ]
  },
  {
   "cell_type": "code",
   "execution_count": 9,
   "id": "473ea431-6cff-4f63-9fb5-4a6b822aa8a8",
   "metadata": {},
   "outputs": [
    {
     "data": {
      "text/plain": [
       "[['2020-09-22', 429.600006, 437.76001, 417.600006, 424.230011, 424.230011],\n",
       " ['2014-07-30', 44.383999, 45.919998, 44.208, 45.784, 45.784],\n",
       " ['2011-08-01', 5.734, 5.796, 5.642, 5.754, 5.754],\n",
       " ['2021-01-28', 820.0, 848.0, 801.0, 835.429993, 835.429993]]"
      ]
     },
     "execution_count": 9,
     "metadata": {},
     "output_type": "execute_result"
    }
   ],
   "source": [
    "X_train[:4]"
   ]
  },
  {
   "cell_type": "markdown",
   "id": "0c647175-5621-4410-8779-af98f2d4807b",
   "metadata": {},
   "source": [
    "# Discretization method\n",
    "## Equal width\n",
    "Train and test set are combined into one array. For each column a different binning process needs to be done. Therefore, we iterate over each column. If the column is numeric, then we continue with discretization, otherwise we skip this column.\n",
    "Then, we need to calculate the width size for each bin, with the following formula: (max-min)/#bins. Afterwards, a dictionary is created which holds the maximum value for each bin. This dictionary is used to discretize each value for each column. The transformed lists are then returned.\n",
    "\n",
    "## Equal frequency\n",
    "Train and test set are combined into one array. For each column a different binning process needs to be done. Therefore, we iterate over each column. If the column is numeric, then we continue with discretization, otherwise we skip this column.\n",
    "Then, we need to calculate the boundaries for each bin to ensure equal frequency of datapoints in each bin. Therefore, we use one-dimensional interpolation. We need to sort all values in ascending order and use them as y-coordinates. As x-coordinates we use a list with increasing digits starting from 0 to length of list - 1. Then, we interpolate the two points at equal width distances for binning. The interpolated points are the boundaries for equal-frequency binning. A dictionary saves those boundaries with the corresponding bin number and it is used to discretize each value for each column. Source for determining equal-frequency boundaries: https://www.statology.org/equal-frequency-binning-python/\n",
    "\n",
    "## Lloyd\n",
    "Train and test set are combined into one array. For each column a different binning process needs to be done. Therefore, we iterate over each column. If the column is numeric, then we continue with discretization, otherwise we skip this column.\n",
    "Then, we fit a kmeans classifier with the combined train and test data (sklearn -> k is number of bins) and predict each value again to get their bin number. The new bin number needs to be saved again in the corresponding set and column. The transformed lists are then returned.\n"
   ]
  },
  {
   "cell_type": "code",
   "execution_count": 10,
   "id": "c39595db-d9d1-48fb-be24-70ee3b0e3395",
   "metadata": {},
   "outputs": [],
   "source": [
    "def is_float(element):\n",
    "    try:\n",
    "        float(element)\n",
    "        return True\n",
    "    except ValueError:\n",
    "        return False"
   ]
  },
  {
   "cell_type": "code",
   "execution_count": 11,
   "id": "9ef4619a-8450-4d61-887a-32e75d607d95",
   "metadata": {},
   "outputs": [],
   "source": [
    "def equal_width(train, test, bins):\n",
    "    comb = np.array(train + test)\n",
    "    if len(comb) == 0:\n",
    "        print('Empty sets were provided. Discretization was unsuccessful')\n",
    "        return train, test\n",
    "    rows, cols = comb.shape\n",
    "    \n",
    "    for i in range(0, cols):\n",
    "        eq_w = comb[:, i].copy()\n",
    "        # check if all entries of columns are numeric\n",
    "        is_float_lst = not all([type(item) == int for item in eq_w])\n",
    "        if not all([type(item) == int or is_float(item) for item in eq_w]):\n",
    "            continue\n",
    "        if is_float_lst:\n",
    "            eq_w = [float(i) for i in eq_w]\n",
    "        else:\n",
    "            eq_w = [int(i) for i in eq_w]\n",
    "        min_ = min(eq_w)\n",
    "        max_ = max(eq_w)\n",
    "        width = (max_ - min_)/bins\n",
    "        binning = {max_val:discrete for discrete,max_val in zip(range(0, bins),\n",
    "                                                                np.arange(min_ + width, width*bins+min_+0.1, width))}\n",
    "        binning.pop(list(binning.keys())[-1])\n",
    "        binning[max_] = bins-1\n",
    "        # bin train and test with dictionary\n",
    "        for j in range(0, len(train)):\n",
    "            for max_val, discrete in binning.items():\n",
    "                if train[j][i] <= max_val:\n",
    "                    train[j][i] = discrete\n",
    "                    break\n",
    "        for j in range(0, len(test)):\n",
    "            for max_val, discrete in binning.items():\n",
    "                if test[j][i] <= max_val:\n",
    "                    test[j][i] = discrete\n",
    "                    break\n",
    "    return train, test\n",
    "        \n",
    "    "
   ]
  },
  {
   "cell_type": "code",
   "execution_count": 12,
   "id": "a2784eb9-e9bf-42e8-bf32-e18843b12941",
   "metadata": {},
   "outputs": [],
   "source": [
    "def equal_frequency(train, test, bins):\n",
    "    comb = np.array(train + test)\n",
    "    if len(comb) == 0:\n",
    "        print('Empty sets were provided. Discretization was unsuccessful')\n",
    "        return train, test\n",
    "    rows, cols = comb.shape\n",
    "    \n",
    "    for i in range(0, cols):\n",
    "        eq_w = comb[:, i].copy()\n",
    "        # check if all entries of columns are numeric\n",
    "        is_float_lst = not all([type(item) == int for item in eq_w])\n",
    "        if not all([type(item) == int or is_float(item) for item in eq_w]):\n",
    "            continue\n",
    "        if is_float_lst:\n",
    "            eq_w = [float(i) for i in eq_w]\n",
    "        else:\n",
    "            eq_w = [int(i) for i in eq_w]\n",
    "        boundaries = np.interp(np.linspace(0, len(eq_w), bins + 1),\n",
    "                     np.arange(len(eq_w)),\n",
    "                     np.sort(eq_w))\n",
    "        boundaries[-1] = boundaries[-1] + 0.1\n",
    "        binning = {max_val:discrete for discrete,max_val in zip(range(0, bins), boundaries[1:])}\n",
    "        for j in range(0, len(train)):\n",
    "            for max_val, discrete in binning.items():\n",
    "                if train[j][i] < max_val:\n",
    "                    train[j][i] = discrete\n",
    "                    break\n",
    "        for j in range(0, len(test)):\n",
    "            for max_val, discrete in binning.items():\n",
    "                if test[j][i] < max_val:\n",
    "                    test[j][i] = discrete\n",
    "                    break\n",
    "    return train, test\n",
    "        "
   ]
  },
  {
   "cell_type": "code",
   "execution_count": 13,
   "id": "588ebd79-43f3-49ee-9777-a5d1ae2e403f",
   "metadata": {},
   "outputs": [],
   "source": [
    "def lloyd(train, test, bins):\n",
    "    comb = np.array(train + test)\n",
    "    if len(comb) == 0:\n",
    "        print('Empty sets were provided. Discretization was unsuccessful')\n",
    "        return train, test\n",
    "    rows, cols = comb.shape\n",
    "    \n",
    "    for i in range(0, cols):\n",
    "        eq_w = comb[:, i].copy()\n",
    "        # check if all entries of columns are numeric\n",
    "        is_float_lst = not all([type(item) == int for item in eq_w])\n",
    "        if not all([type(item) == int or is_float(item) for item in eq_w]):\n",
    "            continue\n",
    "        if is_float_lst:\n",
    "            eq_w = [float(i) for i in eq_w]\n",
    "        else:\n",
    "            eq_w = [int(i) for i in eq_w]\n",
    "        kmeans = KMeans(n_clusters=bins, random_state=0).fit(np.array(eq_w).reshape(-1, 1))\n",
    "        train_preds = kmeans.predict(np.array(train)[:, i].reshape(-1, 1))\n",
    "        test_preds = kmeans.predict(np.array(test)[:, i].reshape(-1, 1))\n",
    "        for j in range(0, len(train)):\n",
    "            train[j][i] = train_preds[j]\n",
    "        for j in range(0, len(test)):\n",
    "            test[j][i] = test_preds[j]\n",
    "    return train, test\n"
   ]
  },
  {
   "cell_type": "markdown",
   "id": "12f18e9b-8e36-4763-b632-6f62dda85795",
   "metadata": {},
   "source": [
    "# Function discretizationSelection\n",
    "Pseudocode is implemented in python."
   ]
  },
  {
   "cell_type": "code",
   "execution_count": 14,
   "id": "2e9ade7d-06a0-420c-ae60-752c123ddb32",
   "metadata": {},
   "outputs": [],
   "source": [
    "def discretization_selection(traindata, testdata, discretization_type, bins=5):\n",
    "    if discretization_type == 1:\n",
    "        traindata, testdata = equal_width(traindata, testdata, bins)\n",
    "    elif discretization_type == 2:\n",
    "        traindata, testdata = equal_frequency(traindata, testdata, bins)\n",
    "    elif discretization_type == 3:\n",
    "        traindata, testdata = lloyd(traindata, testdata, bins)\n",
    "    else:\n",
    "        print(\"Wrong discretization type specified...\")\n",
    "    return traindata, testdata"
   ]
  },
  {
   "cell_type": "markdown",
   "source": [
    "# Discretize dataset and visualize results"
   ],
   "metadata": {
    "collapsed": false,
    "pycharm": {
     "name": "#%% md\n"
    }
   }
  },
  {
   "cell_type": "markdown",
   "id": "590fb71f-6e87-4b64-bf70-33501982e736",
   "metadata": {},
   "source": [
    "## Equal width\n",
    "For equal width, I use seaborn's histplots and specify the number of bins used for discretization. If it was successful, then untransfromed and transformed data plots should look like the same."
   ]
  },
  {
   "cell_type": "code",
   "execution_count": 29,
   "id": "2f95a38e-5fc2-441a-af42-0ff2f58efb35",
   "metadata": {},
   "outputs": [],
   "source": [
    "X_train_eq, X_test_eq = discretization_selection(deepcopy(X_train), deepcopy(X_test), 1, bins=5)"
   ]
  },
  {
   "cell_type": "code",
   "execution_count": 30,
   "id": "70a9e34e-f70d-4cfe-9967-3a82285a805b",
   "metadata": {},
   "outputs": [
    {
     "data": {
      "text/plain": [
       "Text(0.5, 0.98, 'Equal width approach with 5 bins, one feature (trainset)')"
      ]
     },
     "execution_count": 30,
     "metadata": {},
     "output_type": "execute_result"
    },
    {
     "data": {
      "image/png": "[encoded data removed]",
      "text/plain": [
       "<Figure size 864x288 with 2 Axes>"
      ]
     },
     "metadata": {
      "needs_background": "light"
     },
     "output_type": "display_data"
    }
   ],
   "source": [
    "fig, axs = plt.subplots(ncols=2)\n",
    "fig.set_figwidth(12)\n",
    "sns.histplot(x=np.array(X_train)[:, 1].astype('float64'),\n",
    "             stat=\"count\", bins=5, ax = axs[0])\n",
    "sns.histplot(x=np.array(X_train_eq)[:, 1].astype('uint'),\n",
    "             stat=\"count\", bins=5, ax=axs[1])\n",
    "axs[0].set_title('Untransformed data')\n",
    "axs[0].set_xlabel('Feature: Open')\n",
    "axs[1].set_title('Discretized data')\n",
    "axs[1].set_xlabel('Feature: Open')\n",
    "fig.suptitle('Equal width approach with 5 bins, one feature (trainset)',\n",
    "             fontsize=14)"
   ]
  },
  {
   "cell_type": "code",
   "execution_count": 31,
   "id": "b1b73fca-9735-430d-923c-681800f21686",
   "metadata": {},
   "outputs": [
    {
     "data": {
      "text/plain": [
       "Text(0.5, 0.98, 'Equal width approach with 5 bins, one feature (testset)')"
      ]
     },
     "execution_count": 31,
     "metadata": {},
     "output_type": "execute_result"
    },
    {
     "data": {
      "image/png": "[encoded data removed]",
      "text/plain": [
       "<Figure size 864x288 with 2 Axes>"
      ]
     },
     "metadata": {
      "needs_background": "light"
     },
     "output_type": "display_data"
    }
   ],
   "source": [
    "fig, axs = plt.subplots(ncols=2)\n",
    "fig.set_figwidth(12)\n",
    "sns.histplot(x=np.array(X_test)[:, 1].astype('float64'),\n",
    "             stat=\"count\", bins=5, ax = axs[0])\n",
    "sns.histplot(x=np.array(X_test_eq)[:, 1].astype('uint'),\n",
    "             stat=\"count\", bins=5, ax=axs[1])\n",
    "axs[0].set_title('Untransformed data')\n",
    "axs[0].set_xlabel('Feature: Open')\n",
    "axs[1].set_title('Discretized data')\n",
    "axs[1].set_xlabel('Feature: Open')\n",
    "fig.suptitle('Equal width approach with 5 bins, one feature (testset)',\n",
    "             fontsize=14)"
   ]
  },
  {
   "cell_type": "markdown",
   "id": "0a30da03-2c07-44ee-9251-80a80bb7aedd",
   "metadata": {},
   "source": [
    "## Equal frequency\n",
    "For equal frequency, I plot the used boundaries for discretization. Then, a countplot is of discretized data is visualized, to see that each bin holds approximately the same amount of datapoints."
   ]
  },
  {
   "cell_type": "code",
   "execution_count": 32,
   "id": "36058472-9982-400b-85e4-7f9ba5be3ce0",
   "metadata": {},
   "outputs": [],
   "source": [
    "# based on: https://www.statology.org/equal-frequency-binning-python/\n",
    "def equalObs(x, nbin):\n",
    "    nlen = len(x)\n",
    "    return np.interp(np.linspace(0, nlen, nbin + 1),\n",
    "                     np.arange(nlen),\n",
    "                     np.sort(x))"
   ]
  },
  {
   "cell_type": "code",
   "execution_count": 33,
   "id": "c716cf43-8ae4-4af4-84c4-16ddbf815587",
   "metadata": {},
   "outputs": [
    {
     "data": {
      "image/png": "[encoded data removed]",
      "text/plain": [
       "<Figure size 432x288 with 1 Axes>"
      ]
     },
     "metadata": {
      "needs_background": "light"
     },
     "output_type": "display_data"
    }
   ],
   "source": [
    "#create histogram with equal-frequency bins \n",
    "n, bins, patches = plt.hist(np.array(X_test)[:, 1].astype('float64'),\n",
    "                            equalObs(np.array(X_test)[:, 1].astype('float64'), 3),\n",
    "                            edgecolor='black')\n",
    "plt.title('Equal frequency boundaries')\n",
    "plt.ylabel('Count')\n",
    "plt.xlabel('Feature: Open')\n",
    "plt.show()"
   ]
  },
  {
   "cell_type": "code",
   "execution_count": 34,
   "id": "9f42e0d4-fc59-463f-8043-927a7d767ea0",
   "metadata": {},
   "outputs": [],
   "source": [
    "X_train_f, X_test_f = discretization_selection(deepcopy(X_train), deepcopy(X_test), 2, bins=3)"
   ]
  },
  {
   "cell_type": "code",
   "execution_count": 35,
   "id": "b3e1dd33-452f-46dd-84de-829f8364ddd7",
   "metadata": {},
   "outputs": [
    {
     "data": {
      "text/plain": [
       "Text(0.5, 0.98, 'Equal frequency approach with 3 bins, one feature')"
      ]
     },
     "execution_count": 35,
     "metadata": {},
     "output_type": "execute_result"
    },
    {
     "data": {
      "image/png": "[encoded data removed]",
      "text/plain": [
       "<Figure size 864x288 with 2 Axes>"
      ]
     },
     "metadata": {
      "needs_background": "light"
     },
     "output_type": "display_data"
    }
   ],
   "source": [
    "fig, axs = plt.subplots(ncols=2)\n",
    "fig.set_figwidth(12)\n",
    "sns.countplot(x=np.array(X_train_f)[:, 1].astype('uint'), ax = axs[0])\n",
    "sns.countplot(x=np.array(X_test_f)[:, 1].astype('uint'), ax = axs[1])\n",
    "axs[0].set_title('Trainset discretized')\n",
    "axs[0].set_xlabel('Feature: Open')\n",
    "axs[1].set_title('Testset discretized')\n",
    "axs[1].set_xlabel('Feature: Open')\n",
    "fig.suptitle('Equal frequency approach with 3 bins, one feature', fontsize=14)"
   ]
  },
  {
   "cell_type": "markdown",
   "id": "ebd5ca81-0ccb-4e29-bb8d-fcf37c2c45b0",
   "metadata": {},
   "source": [
    "# Lloyd\n",
    "For the lloyd approach, I plot the numeric values against the assigned classes."
   ]
  },
  {
   "cell_type": "code",
   "execution_count": 36,
   "id": "46f612f7-dc90-4651-9ca4-4e04c9539c57",
   "metadata": {},
   "outputs": [],
   "source": [
    "X_train_l, X_test_l = discretization_selection(deepcopy(X_train), deepcopy(X_test), 2, bins=4)"
   ]
  },
  {
   "cell_type": "code",
   "execution_count": 37,
   "id": "482647d4-2f44-46a6-93fc-71e2b2259521",
   "metadata": {},
   "outputs": [
    {
     "data": {
      "text/plain": [
       "Text(0.5, 0.98, 'Lloyd, one feature, 4 bins')"
      ]
     },
     "execution_count": 37,
     "metadata": {},
     "output_type": "execute_result"
    },
    {
     "data": {
      "image/png": "[encoded data removed]",
      "text/plain": [
       "<Figure size 864x288 with 2 Axes>"
      ]
     },
     "metadata": {
      "needs_background": "light"
     },
     "output_type": "display_data"
    }
   ],
   "source": [
    "colors = ['#747FE3', '#8EE35D', '#E37346', '#000000']\n",
    "fig, axs = plt.subplots(ncols=2)\n",
    "fig.set_figwidth(12)\n",
    "open_test = np.array(X_test_l)[:, 1].astype('uint')\n",
    "open_train = np.array(X_train_l)[:, 1].astype('uint')\n",
    "sns.scatterplot(x=np.array(X_test)[:, 1].astype('float64'), y=open_test,\n",
    "                palette=colors, hue=open_test, ax=axs[1])\n",
    "sns.scatterplot(x=np.array(X_train)[:, 1].astype('float64'),y=open_train,\n",
    "                palette=colors, hue=open_train, ax=axs[0])\n",
    "axs[0].set_title('Trainset')\n",
    "axs[0].set_xlabel('Feature: Open')\n",
    "axs[1].set_title('Testset')\n",
    "axs[1].set_xlabel('Feature: Open')\n",
    "axs[1].set_yticks([0, 1, 2, 3])\n",
    "axs[0].set_yticks([0, 1, 2, 3])\n",
    "fig.suptitle('Lloyd, one feature, 4 bins', fontsize=14)"
   ]
  },
  {
   "cell_type": "markdown",
   "id": "305418ab-a95c-41be-83ed-2ea63e927308",
   "metadata": {},
   "source": [
    "# Discretized data to csv\n",
    "We create a dataframe based on the discretized data. The label (Volume), was never discretized, as we splitted it off before the transformation. Furthermore, a label 'Train' is added, which indicates whether the sample is a train or testsample. Also, the date column was never discretized either, as it is no numeric datatype.\n",
    "\n",
    "Since most of the column values are similar to the ones in their corresponding row, they have very often the same discretized label."
   ]
  },
  {
   "cell_type": "code",
   "execution_count": 38,
   "id": "e00dc69c-3d09-41b3-8698-6347ac81d096",
   "metadata": {},
   "outputs": [],
   "source": [
    "def create_df(X_train, y_train, X_test, y_test):\n",
    "    np_train = np.array(X_train)\n",
    "    r, c = np_train.shape\n",
    "    train_c = np.append(np_train, np.array([y_train]).T, axis=1)\n",
    "    train_c = np.append(train_c, np.ones((r, 1), dtype=int), axis=1)\n",
    "    np_test = np.array(X_test)\n",
    "    r, c = np_test.shape\n",
    "    test_c = np.append(np_test, np.array([y_test]).T, axis=1)\n",
    "    test_c = np.append(test_c, np.zeros((r, 1), dtype=int), axis=1)\n",
    "    comb = np.array(list(train_c) + list(test_c))\n",
    "    df = pd.DataFrame(comb, columns = ['Date','Open','High','Low',\n",
    "                                       'Close', 'Adj Close', 'Volume', 'Train'])\n",
    "    return df"
   ]
  },
  {
   "cell_type": "code",
   "execution_count": 39,
   "id": "012fb4d5-8fea-4c81-b112-d8bcb0fa0ae4",
   "metadata": {},
   "outputs": [],
   "source": [
    "width_df = create_df(X_train_eq, y_train, X_test_eq, y_test)"
   ]
  },
  {
   "cell_type": "code",
   "execution_count": 40,
   "id": "b804bd32-dcd9-4214-9559-f948dcbd01ef",
   "metadata": {},
   "outputs": [],
   "source": [
    "frequency_df = create_df(X_train_f, y_train, X_test_f, y_test)"
   ]
  },
  {
   "cell_type": "code",
   "execution_count": 41,
   "id": "ecf4df1a-1fb7-449e-a85e-5c65e50fac34",
   "metadata": {},
   "outputs": [],
   "source": [
    "lloyd_df = create_df(X_train_l, y_train, X_test_l, y_test)"
   ]
  },
  {
   "cell_type": "code",
   "execution_count": 42,
   "id": "957f0a46-ac2c-4d8f-8073-e88a9a8eb06d",
   "metadata": {},
   "outputs": [
    {
     "data": {
      "text/html": [
       "<div>\n",
       "<style scoped>\n",
       "    .dataframe tbody tr th:only-of-type {\n",
       "        vertical-align: middle;\n",
       "    }\n",
       "\n",
       "    .dataframe tbody tr th {\n",
       "        vertical-align: top;\n",
       "    }\n",
       "\n",
       "    .dataframe thead th {\n",
       "        text-align: right;\n",
       "    }\n",
       "</style>\n",
       "<table border=\"1\" class=\"dataframe\">\n",
       "  <thead>\n",
       "    <tr style=\"text-align: right;\">\n",
       "      <th></th>\n",
       "      <th>Date</th>\n",
       "      <th>Open</th>\n",
       "      <th>High</th>\n",
       "      <th>Low</th>\n",
       "      <th>Close</th>\n",
       "      <th>Adj Close</th>\n",
       "      <th>Volume</th>\n",
       "      <th>Train</th>\n",
       "    </tr>\n",
       "  </thead>\n",
       "  <tbody>\n",
       "    <tr>\n",
       "      <th>0</th>\n",
       "      <td>2020-09-22</td>\n",
       "      <td>1</td>\n",
       "      <td>1</td>\n",
       "      <td>1</td>\n",
       "      <td>1</td>\n",
       "      <td>1</td>\n",
       "      <td>79580800</td>\n",
       "      <td>1</td>\n",
       "    </tr>\n",
       "    <tr>\n",
       "      <th>1</th>\n",
       "      <td>2014-07-30</td>\n",
       "      <td>0</td>\n",
       "      <td>0</td>\n",
       "      <td>0</td>\n",
       "      <td>0</td>\n",
       "      <td>0</td>\n",
       "      <td>24639000</td>\n",
       "      <td>1</td>\n",
       "    </tr>\n",
       "    <tr>\n",
       "      <th>2</th>\n",
       "      <td>2011-08-01</td>\n",
       "      <td>0</td>\n",
       "      <td>0</td>\n",
       "      <td>0</td>\n",
       "      <td>0</td>\n",
       "      <td>0</td>\n",
       "      <td>5824500</td>\n",
       "      <td>1</td>\n",
       "    </tr>\n",
       "    <tr>\n",
       "      <th>3</th>\n",
       "      <td>2021-01-28</td>\n",
       "      <td>3</td>\n",
       "      <td>3</td>\n",
       "      <td>3</td>\n",
       "      <td>3</td>\n",
       "      <td>3</td>\n",
       "      <td>26378000</td>\n",
       "      <td>1</td>\n",
       "    </tr>\n",
       "    <tr>\n",
       "      <th>4</th>\n",
       "      <td>2010-08-17</td>\n",
       "      <td>0</td>\n",
       "      <td>0</td>\n",
       "      <td>0</td>\n",
       "      <td>0</td>\n",
       "      <td>0</td>\n",
       "      <td>2239500</td>\n",
       "      <td>1</td>\n",
       "    </tr>\n",
       "  </tbody>\n",
       "</table>\n",
       "</div>"
      ],
      "text/plain": [
       "         Date Open High Low Close Adj Close    Volume Train\n",
       "0  2020-09-22    1    1   1     1         1  79580800     1\n",
       "1  2014-07-30    0    0   0     0         0  24639000     1\n",
       "2  2011-08-01    0    0   0     0         0   5824500     1\n",
       "3  2021-01-28    3    3   3     3         3  26378000     1\n",
       "4  2010-08-17    0    0   0     0         0   2239500     1"
      ]
     },
     "execution_count": 42,
     "metadata": {},
     "output_type": "execute_result"
    }
   ],
   "source": [
    "width_df.head()"
   ]
  },
  {
   "cell_type": "code",
   "execution_count": 43,
   "id": "7c79cb1b-11df-40ce-8b77-ae4495a260d4",
   "metadata": {},
   "outputs": [
    {
     "data": {
      "text/html": [
       "<div>\n",
       "<style scoped>\n",
       "    .dataframe tbody tr th:only-of-type {\n",
       "        vertical-align: middle;\n",
       "    }\n",
       "\n",
       "    .dataframe tbody tr th {\n",
       "        vertical-align: top;\n",
       "    }\n",
       "\n",
       "    .dataframe thead th {\n",
       "        text-align: right;\n",
       "    }\n",
       "</style>\n",
       "<table border=\"1\" class=\"dataframe\">\n",
       "  <thead>\n",
       "    <tr style=\"text-align: right;\">\n",
       "      <th></th>\n",
       "      <th>Date</th>\n",
       "      <th>Open</th>\n",
       "      <th>High</th>\n",
       "      <th>Low</th>\n",
       "      <th>Close</th>\n",
       "      <th>Adj Close</th>\n",
       "      <th>Volume</th>\n",
       "      <th>Train</th>\n",
       "    </tr>\n",
       "  </thead>\n",
       "  <tbody>\n",
       "    <tr>\n",
       "      <th>0</th>\n",
       "      <td>2020-09-22</td>\n",
       "      <td>2</td>\n",
       "      <td>2</td>\n",
       "      <td>2</td>\n",
       "      <td>2</td>\n",
       "      <td>2</td>\n",
       "      <td>79580800</td>\n",
       "      <td>1</td>\n",
       "    </tr>\n",
       "    <tr>\n",
       "      <th>1</th>\n",
       "      <td>2014-07-30</td>\n",
       "      <td>1</td>\n",
       "      <td>1</td>\n",
       "      <td>1</td>\n",
       "      <td>1</td>\n",
       "      <td>1</td>\n",
       "      <td>24639000</td>\n",
       "      <td>1</td>\n",
       "    </tr>\n",
       "    <tr>\n",
       "      <th>2</th>\n",
       "      <td>2011-08-01</td>\n",
       "      <td>0</td>\n",
       "      <td>0</td>\n",
       "      <td>0</td>\n",
       "      <td>0</td>\n",
       "      <td>0</td>\n",
       "      <td>5824500</td>\n",
       "      <td>1</td>\n",
       "    </tr>\n",
       "    <tr>\n",
       "      <th>3</th>\n",
       "      <td>2021-01-28</td>\n",
       "      <td>2</td>\n",
       "      <td>2</td>\n",
       "      <td>2</td>\n",
       "      <td>2</td>\n",
       "      <td>2</td>\n",
       "      <td>26378000</td>\n",
       "      <td>1</td>\n",
       "    </tr>\n",
       "    <tr>\n",
       "      <th>4</th>\n",
       "      <td>2010-08-17</td>\n",
       "      <td>0</td>\n",
       "      <td>0</td>\n",
       "      <td>0</td>\n",
       "      <td>0</td>\n",
       "      <td>0</td>\n",
       "      <td>2239500</td>\n",
       "      <td>1</td>\n",
       "    </tr>\n",
       "  </tbody>\n",
       "</table>\n",
       "</div>"
      ],
      "text/plain": [
       "         Date Open High Low Close Adj Close    Volume Train\n",
       "0  2020-09-22    2    2   2     2         2  79580800     1\n",
       "1  2014-07-30    1    1   1     1         1  24639000     1\n",
       "2  2011-08-01    0    0   0     0         0   5824500     1\n",
       "3  2021-01-28    2    2   2     2         2  26378000     1\n",
       "4  2010-08-17    0    0   0     0         0   2239500     1"
      ]
     },
     "execution_count": 43,
     "metadata": {},
     "output_type": "execute_result"
    }
   ],
   "source": [
    "frequency_df.head()"
   ]
  },
  {
   "cell_type": "code",
   "execution_count": 44,
   "id": "1b37cd80-ec07-4179-8822-08e4c4afe29e",
   "metadata": {},
   "outputs": [
    {
     "data": {
      "text/html": [
       "<div>\n",
       "<style scoped>\n",
       "    .dataframe tbody tr th:only-of-type {\n",
       "        vertical-align: middle;\n",
       "    }\n",
       "\n",
       "    .dataframe tbody tr th {\n",
       "        vertical-align: top;\n",
       "    }\n",
       "\n",
       "    .dataframe thead th {\n",
       "        text-align: right;\n",
       "    }\n",
       "</style>\n",
       "<table border=\"1\" class=\"dataframe\">\n",
       "  <thead>\n",
       "    <tr style=\"text-align: right;\">\n",
       "      <th></th>\n",
       "      <th>Date</th>\n",
       "      <th>Open</th>\n",
       "      <th>High</th>\n",
       "      <th>Low</th>\n",
       "      <th>Close</th>\n",
       "      <th>Adj Close</th>\n",
       "      <th>Volume</th>\n",
       "      <th>Train</th>\n",
       "    </tr>\n",
       "  </thead>\n",
       "  <tbody>\n",
       "    <tr>\n",
       "      <th>0</th>\n",
       "      <td>2020-09-22</td>\n",
       "      <td>3</td>\n",
       "      <td>3</td>\n",
       "      <td>3</td>\n",
       "      <td>3</td>\n",
       "      <td>3</td>\n",
       "      <td>79580800</td>\n",
       "      <td>1</td>\n",
       "    </tr>\n",
       "    <tr>\n",
       "      <th>1</th>\n",
       "      <td>2014-07-30</td>\n",
       "      <td>1</td>\n",
       "      <td>1</td>\n",
       "      <td>1</td>\n",
       "      <td>1</td>\n",
       "      <td>1</td>\n",
       "      <td>24639000</td>\n",
       "      <td>1</td>\n",
       "    </tr>\n",
       "    <tr>\n",
       "      <th>2</th>\n",
       "      <td>2011-08-01</td>\n",
       "      <td>0</td>\n",
       "      <td>0</td>\n",
       "      <td>0</td>\n",
       "      <td>0</td>\n",
       "      <td>0</td>\n",
       "      <td>5824500</td>\n",
       "      <td>1</td>\n",
       "    </tr>\n",
       "    <tr>\n",
       "      <th>3</th>\n",
       "      <td>2021-01-28</td>\n",
       "      <td>3</td>\n",
       "      <td>3</td>\n",
       "      <td>3</td>\n",
       "      <td>3</td>\n",
       "      <td>3</td>\n",
       "      <td>26378000</td>\n",
       "      <td>1</td>\n",
       "    </tr>\n",
       "    <tr>\n",
       "      <th>4</th>\n",
       "      <td>2010-08-17</td>\n",
       "      <td>0</td>\n",
       "      <td>0</td>\n",
       "      <td>0</td>\n",
       "      <td>0</td>\n",
       "      <td>0</td>\n",
       "      <td>2239500</td>\n",
       "      <td>1</td>\n",
       "    </tr>\n",
       "  </tbody>\n",
       "</table>\n",
       "</div>"
      ],
      "text/plain": [
       "         Date Open High Low Close Adj Close    Volume Train\n",
       "0  2020-09-22    3    3   3     3         3  79580800     1\n",
       "1  2014-07-30    1    1   1     1         1  24639000     1\n",
       "2  2011-08-01    0    0   0     0         0   5824500     1\n",
       "3  2021-01-28    3    3   3     3         3  26378000     1\n",
       "4  2010-08-17    0    0   0     0         0   2239500     1"
      ]
     },
     "execution_count": 44,
     "metadata": {},
     "output_type": "execute_result"
    }
   ],
   "source": [
    "lloyd_df.head()"
   ]
  },
  {
   "cell_type": "code",
   "execution_count": 45,
   "id": "06c4e278-f974-48a5-a0c6-9a82264a8610",
   "metadata": {},
   "outputs": [],
   "source": [
    "width_df.to_csv('data/equal_width_stocks.csv', sep=';', index=False)\n",
    "frequency_df.to_csv('data/frequency_stocks.csv', sep=';', index=False)\n",
    "lloyd_df.to_csv('data/lloyd_stocks.csv', sep=';', index=False)"
   ]
  },
  {
   "cell_type": "code",
   "execution_count": null,
   "id": "ef55da73-a9f4-4122-be39-cbb32db7db4f",
   "metadata": {},
   "outputs": [],
   "source": []
  }
 ],
 "metadata": {
  "kernelspec": {
   "display_name": "web_scraping",
   "language": "python",
   "name": "web_scraping"
  },
  "language_info": {
   "codemirror_mode": {
    "name": "ipython",
    "version": 3
   },
   "file_extension": ".py",
   "mimetype": "text/x-python",
   "name": "python",
   "nbconvert_exporter": "python",
   "pygments_lexer": "ipython3",
   "version": "3.9.12"
  }
 },
 "nbformat": 4,
 "nbformat_minor": 5
}